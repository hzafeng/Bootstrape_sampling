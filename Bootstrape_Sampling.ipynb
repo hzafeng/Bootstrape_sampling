{
 "cells": [
  {
   "cell_type": "code",
   "execution_count": null,
   "metadata": {},
   "outputs": [],
   "source": [
    "# Mapping genomes pairs to result(value)\n",
    "import os\n",
    "d_pairs2value={}\n",
    "for i in os.listdir(r'./ANI_result'):\n",
    "    f=open(os.path.join(r'./ANI_result',i),'r')\n",
    "    data=f.read().split('\\n')[:-1]\n",
    "    f.close()\n",
    "    for j in data:\n",
    "        d_pairs2value[j.split('\\t')[0].split('/')[-1]+'-'+j.split('\\t')[1].split('/')[-1]]=j.split('\\t')[2]\n",
    "        \n",
    "\n",
    "d_pairs2sero={};d_sero2pairs={}\n",
    "import os\n",
    "for i in os.listdir(r'./Each_serotype'):\n",
    "    f=open(os.path.join(r'./Each_serotype',i),'r')\n",
    "    data=f.read().split('\\n')[:-1]\n",
    "    f.close()\n",
    "    d_sero2pairs[i]=[]\n",
    "    for j in data:\n",
    "        d_pairs2sero[j.split('-o ')[1].split(' ')[0]]=i\n",
    "        d_sero2pairs[i].append(j.split('-o ')[1].split(' ')[0])\n",
    "        \n",
    "# Bootstrpe sampling methods\n",
    "import os\n",
    "import random\n",
    "o_path =r'bootstrape-10000'\n",
    "for i in d_sero2pairs:\n",
    "    of=open(os.path.join(o_path,i),'w')\n",
    "    for j in range(10000):\n",
    "        of.write(d_pairs2value[random.choice(d_sero2pairs[i])]+'\\n')\n",
    "    of.close()"
   ]
  }
 ],
 "metadata": {
  "kernelspec": {
   "display_name": "Python 2",
   "language": "python",
   "name": "python2"
  },
  "language_info": {
   "codemirror_mode": {
    "name": "ipython",
    "version": 2
   },
   "file_extension": ".py",
   "mimetype": "text/x-python",
   "name": "python",
   "nbconvert_exporter": "python",
   "pygments_lexer": "ipython2",
   "version": "2.7.13"
  }
 },
 "nbformat": 4,
 "nbformat_minor": 2
}
